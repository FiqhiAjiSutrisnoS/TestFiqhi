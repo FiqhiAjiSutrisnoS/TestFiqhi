{
 "cells": [
  {
   "cell_type": "code",
   "execution_count": 1,
   "metadata": {
    "collapsed": true
   },
   "outputs": [],
   "source": [
    "import numpy\n",
    "from matplotlib import pyplot\n",
    "%matplotlib inline\n",
    "from matplotlib import rcParams, cm\n",
    "rcParams['font.family']='serif'\n",
    "rcParams['font.size'] = 16"
   ]
  },
  {
   "cell_type": "code",
   "execution_count": 2,
   "metadata": {
    "collapsed": true
   },
   "outputs": [],
   "source": [
    "n = 192.0\n",
    "Du = 0.00016\n",
    "Dv = 0.00008\n",
    "F = 0.035\n",
    "k = 0.065\n",
    "dh = 5.0/(n-1)\n",
    "T = 8000.0\n",
    "dt = (0.9*dh**2)/(4.0*max(Du,Dv))\n",
    "nt = int(T/dt)\n",
    "dx = dh\n",
    "dy = dh"
   ]
  },
  {
   "cell_type": "code",
   "execution_count": 3,
   "metadata": {
    "collapsed": true
   },
   "outputs": [],
   "source": [
    "def reaction_diffusion_problem(U,V,Du,Dv,F,k,nt,dt,dx,dy):\n",
    "    \n",
    "    for n in range(nt):\n",
    "        Un = U.copy()\n",
    "        Vn = V.copy()\n",
    "        \n",
    "        U[1:-1,1:-1]=Un[1:-1,1:-1]+dt*\\\n",
    "        ((Du/dx**2*(Un[2:,1:-1]-2*Un[1:-1,1:-1]+Un[:-2,1:-1]) +\\\n",
    "          Du/dy**2*(Un[1:-1,2:]-2*Un[1:-1,1:-1]+Un[1:-1,:-2]))-\\\n",
    "         Un[1:-1,1:-1]*Vn[1:-1,1:-1]**2+F*(1-Un[1:-1,1:-1]))\n",
    "        V[1:-1,1:-1]=Vn[1:-1,1:-1]+dt*\\\n",
    "        ((Dv/dx**2*(Vn[2:,1:-1]-2*Vn[1:-1,1:-1]+Vn[:-2,1:-1]) +\\\n",
    "          Dv/dy**2*(Vn[1:-1,2:]-2*Vn[1:-1,1:-1]+Vn[1:-1,:-2]))+\\\n",
    "         Un[1:-1,1:-1]*Vn[1:-1,1:-1]**2-(F+k)*Vn[1:-1,1:-1]) \n",
    "        \n",
    "        #Enforce Neumann BCs\n",
    "        U[0,:]=U[1,:]\n",
    "        U[:,0]=U[:,1]\n",
    "        V[0,:]=V[1,:]\n",
    "        V[:,0]=V[:,1]\n",
    "        \n",
    "        U[-1,:]=U[-2,:]\n",
    "        U[:,-1]=U[:,-2]\n",
    "        V[-1,:]=V[-2,:]\n",
    "        V[:,-1]=V[:,-2]\n",
    "        \n",
    "    return(U,V)"
   ]
  },
  {
   "cell_type": "code",
   "execution_count": 4,
   "metadata": {
    "collapsed": true
   },
   "outputs": [],
   "source": [
    "import numpy\n",
    "uvinitial=numpy.load('./uvinitial.npz')\n",
    "U_real=uvinitial['U']\n",
    "V_real=uvinitial['V']"
   ]
  },
  {
   "cell_type": "code",
   "execution_count": 5,
   "metadata": {
    "collapsed": true
   },
   "outputs": [],
   "source": [
    "[U_8000,V_8000]=reaction_diffusion_problem(U_real,V_real,Du,Dv,F,k,nt,dt,dx,dy)"
   ]
  },
  {
   "cell_type": "code",
   "execution_count": 6,
   "metadata": {
    "collapsed": false
   },
   "outputs": [
    {
     "name": "stdout",
     "output_type": "stream",
     "text": [
      "[[ 0.95240393  0.95240393  0.94891616 ...,  0.98932024  0.99061544\n",
      "   0.99061544]\n",
      " [ 0.95240393  0.95240393  0.94891616 ...,  0.98932024  0.99061544\n",
      "   0.99061544]\n",
      " [ 0.94872314  0.94872314  0.94454883 ...,  0.9890645   0.99042336\n",
      "   0.99042336]\n",
      " ..., \n",
      " [ 0.95622777  0.95622777  0.95239656 ...,  0.99488881  0.99538486\n",
      "   0.99538486]\n",
      " [ 0.95910378  0.95910378  0.95585264 ...,  0.99509444  0.99557349\n",
      "   0.99557349]\n",
      " [ 0.95910378  0.95910378  0.95585264 ...,  0.99509444  0.99557349\n",
      "   0.99557349]]\n"
     ]
    }
   ],
   "source": [
    "print(U_8000)"
   ]
  },
  {
   "cell_type": "code",
   "execution_count": 7,
   "metadata": {
    "collapsed": false
   },
   "outputs": [
    {
     "name": "stdout",
     "output_type": "stream",
     "text": [
      "[ 0.92469521  0.85013834  0.66815621  0.90196481  0.9039502 ]\n"
     ]
    }
   ],
   "source": [
    "uans = U_8000.copy()\n",
    "print(uans[100,::40])"
   ]
  },
  {
   "cell_type": "code",
   "execution_count": null,
   "metadata": {
    "collapsed": true
   },
   "outputs": [],
   "source": []
  }
 ],
 "metadata": {
  "anaconda-cloud": {},
  "kernelspec": {
   "display_name": "Python [conda root]",
   "language": "python",
   "name": "conda-root-py"
  },
  "language_info": {
   "codemirror_mode": {
    "name": "ipython",
    "version": 3
   },
   "file_extension": ".py",
   "mimetype": "text/x-python",
   "name": "python",
   "nbconvert_exporter": "python",
   "pygments_lexer": "ipython3",
   "version": "3.5.2"
  }
 },
 "nbformat": 4,
 "nbformat_minor": 1
}
