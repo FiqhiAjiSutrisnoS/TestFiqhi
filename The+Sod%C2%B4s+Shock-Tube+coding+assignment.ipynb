{
 "cells": [
  {
   "cell_type": "code",
   "execution_count": 2,
   "metadata": {
    "collapsed": true
   },
   "outputs": [],
   "source": [
    "import sympy\n",
    "sympy.init_printing()\n",
    "\n",
    "(u_max, u_star, rho_max, \n",
    " rho_star, A, B) = sympy.symbols('u_max u_star rho_max rho_star A B')"
   ]
  },
  {
   "cell_type": "code",
   "execution_count": 3,
   "metadata": {
    "collapsed": true
   },
   "outputs": [],
   "source": [
    "eq1 = sympy.Eq(0, u_max*rho_max*(1 - A*rho_max-B*rho_max**2))\n",
    "eq2 = sympy.Eq(0, u_max*(1 - 2*A*rho_star-3*B*rho_star**2))\n",
    "eq3 = sympy.Eq(u_star, u_max*(1 - A*rho_star - B*rho_star**2))"
   ]
  },
  {
   "cell_type": "code",
   "execution_count": 4,
   "metadata": {
    "collapsed": false
   },
   "outputs": [
    {
     "data": {
      "image/png": "[encoded data removed]",
      "text/latex": [
       "$$0 = \\rho_{max} u_{max} \\left(- A \\rho_{max} - B \\rho_{max}^{2} + 1\\right)$$"
      ],
      "text/plain": [
       "              ⎛                2    ⎞\n",
       "0 = ρₘₐₓ⋅uₘₐₓ⋅⎝-A⋅ρₘₐₓ - B⋅ρₘₐₓ  + 1⎠"
      ]
     },
     "execution_count": 4,
     "metadata": {},
     "output_type": "execute_result"
    }
   ],
   "source": [
    "eq1"
   ]
  },
  {
   "cell_type": "code",
   "execution_count": 5,
   "metadata": {
    "collapsed": false
   },
   "outputs": [
    {
     "data": {
      "image/png": "[encoded data removed]",
      "text/latex": [
       "$$0 = u_{max} \\left(- 2 A \\rho_{star} - 3 B \\rho_{star}^{2} + 1\\right)$$"
      ],
      "text/plain": [
       "         ⎛                      2    ⎞\n",
       "0 = uₘₐₓ⋅⎝-2⋅A⋅ρₛₜₐᵣ - 3⋅B⋅ρₛₜₐᵣ  + 1⎠"
      ]
     },
     "execution_count": 5,
     "metadata": {},
     "output_type": "execute_result"
    }
   ],
   "source": [
    "eq2"
   ]
  },
  {
   "cell_type": "code",
   "execution_count": 6,
   "metadata": {
    "collapsed": false
   },
   "outputs": [
    {
     "data": {
      "image/png": "[encoded data removed]",
      "text/latex": [
       "$$u_{star} = u_{max} \\left(- A \\rho_{star} - B \\rho_{star}^{2} + 1\\right)$$"
      ],
      "text/plain": [
       "             ⎛                  2    ⎞\n",
       "uₛₜₐᵣ = uₘₐₓ⋅⎝-A⋅ρₛₜₐᵣ - B⋅ρₛₜₐᵣ  + 1⎠"
      ]
     },
     "execution_count": 6,
     "metadata": {},
     "output_type": "execute_result"
    }
   ],
   "source": [
    "eq3"
   ]
  },
  {
   "cell_type": "code",
   "execution_count": 6,
   "metadata": {
    "collapsed": false
   },
   "outputs": [
    {
     "data": {
      "image/png": "[encoded data removed]",
      "text/latex": [
       "$$\\left(0 = u_{max} \\left(- 2 A \\rho_{star} - 3 B \\rho_{star}^{2} + 1\\right)\\right) - 3 \\left(u_{star} = u_{max} \\left(- A \\rho_{star} - B \\rho_{star}^{2} + 1\\right)\\right)$$"
      ],
      "text/plain": [
       "⎛         ⎛                      2    ⎞⎞     ⎛             ⎛                  \n",
       "⎝0 = uₘₐₓ⋅⎝-2⋅A⋅ρₛₜₐᵣ - 3⋅B⋅ρₛₜₐᵣ  + 1⎠⎠ - 3⋅⎝uₛₜₐᵣ = uₘₐₓ⋅⎝-A⋅ρₛₜₐᵣ - B⋅ρₛₜₐᵣ\n",
       "\n",
       "2    ⎞⎞\n",
       "  + 1⎠⎠"
      ]
     },
     "execution_count": 6,
     "metadata": {},
     "output_type": "execute_result"
    }
   ],
   "source": [
    "eq2 - 3*eq3"
   ]
  },
  {
   "cell_type": "code",
   "execution_count": 8,
   "metadata": {
    "collapsed": false
   },
   "outputs": [
    {
     "data": {
      "image/png": "[encoded data removed]",
      "text/latex": [
       "$$- 3 u_{star} = u_{max} \\left(- 2 A \\rho_{star} - 3 B \\rho_{star}^{2} + 1\\right) - 3 u_{max} \\left(- A \\rho_{star} - B \\rho_{star}^{2} + 1\\right)$$"
      ],
      "text/plain": [
       "                ⎛                      2    ⎞          ⎛                  2   \n",
       "-3⋅uₛₜₐᵣ = uₘₐₓ⋅⎝-2⋅A⋅ρₛₜₐᵣ - 3⋅B⋅ρₛₜₐᵣ  + 1⎠ - 3⋅uₘₐₓ⋅⎝-A⋅ρₛₜₐᵣ - B⋅ρₛₜₐᵣ  + \n",
       "\n",
       " ⎞\n",
       "1⎠"
      ]
     },
     "execution_count": 8,
     "metadata": {},
     "output_type": "execute_result"
    }
   ],
   "source": [
    "eq4 = sympy.Eq(eq2.lhs - 3*eq3.lhs, eq2.rhs - 3*eq3.rhs)\n",
    "eq4"
   ]
  },
  {
   "cell_type": "code",
   "execution_count": 9,
   "metadata": {
    "collapsed": false
   },
   "outputs": [
    {
     "data": {
      "image/png": "[encoded data removed]",
      "text/latex": [
       "$$3 u_{star} = - u_{max} \\left(A \\rho_{star} - 2\\right)$$"
      ],
      "text/plain": [
       "3⋅uₛₜₐᵣ = -uₘₐₓ⋅(A⋅ρₛₜₐᵣ - 2)"
      ]
     },
     "execution_count": 9,
     "metadata": {},
     "output_type": "execute_result"
    }
   ],
   "source": [
    "eq4.simplify()"
   ]
  },
  {
   "cell_type": "code",
   "execution_count": 10,
   "metadata": {
    "collapsed": false
   },
   "outputs": [
    {
     "data": {
      "image/png": "[encoded data removed]",
      "text/latex": [
       "$$- 3 u_{star} = u_{max} \\left(- 2 A \\rho_{star} - 3 B \\rho_{star}^{2} + 1\\right) - 3 u_{max} \\left(- A \\rho_{star} - B \\rho_{star}^{2} + 1\\right)$$"
      ],
      "text/plain": [
       "                ⎛                      2    ⎞          ⎛                  2   \n",
       "-3⋅uₛₜₐᵣ = uₘₐₓ⋅⎝-2⋅A⋅ρₛₜₐᵣ - 3⋅B⋅ρₛₜₐᵣ  + 1⎠ - 3⋅uₘₐₓ⋅⎝-A⋅ρₛₜₐᵣ - B⋅ρₛₜₐᵣ  + \n",
       "\n",
       " ⎞\n",
       "1⎠"
      ]
     },
     "execution_count": 10,
     "metadata": {},
     "output_type": "execute_result"
    }
   ],
   "source": [
    "eq4"
   ]
  },
  {
   "cell_type": "code",
   "execution_count": 11,
   "metadata": {
    "collapsed": false
   },
   "outputs": [
    {
     "data": {
      "image/png": "[encoded data removed]",
      "text/latex": [
       "$$- 3 u_{star} = A \\rho_{star} u_{max} - 2 u_{max}$$"
      ],
      "text/plain": [
       "-3⋅uₛₜₐᵣ = A⋅ρₛₜₐᵣ⋅uₘₐₓ - 2⋅uₘₐₓ"
      ]
     },
     "execution_count": 11,
     "metadata": {},
     "output_type": "execute_result"
    }
   ],
   "source": [
    "eq4.expand()"
   ]
  },
  {
   "cell_type": "code",
   "execution_count": 12,
   "metadata": {
    "collapsed": false
   },
   "outputs": [
    {
     "data": {
      "image/png": "[encoded data removed]",
      "text/latex": [
       "$$\\frac{1}{A u_{max}} \\left(2 u_{max} - 3 u_{star}\\right)$$"
      ],
      "text/plain": [
       "2⋅uₘₐₓ - 3⋅uₛₜₐᵣ\n",
       "────────────────\n",
       "     A⋅uₘₐₓ     "
      ]
     },
     "execution_count": 12,
     "metadata": {},
     "output_type": "execute_result"
    }
   ],
   "source": [
    "rho_sol = sympy.solve(eq4,rho_star)[0]\n",
    "rho_sol"
   ]
  },
  {
   "cell_type": "code",
   "execution_count": 13,
   "metadata": {
    "collapsed": false
   },
   "outputs": [
    {
     "data": {
      "image/png": "[encoded data removed]",
      "text/latex": [
       "$$\\frac{1}{\\rho_{max}^{2}} \\left(- A \\rho_{max} + 1\\right)$$"
      ],
      "text/plain": [
       "-A⋅ρₘₐₓ + 1\n",
       "───────────\n",
       "       2   \n",
       "   ρₘₐₓ    "
      ]
     },
     "execution_count": 13,
     "metadata": {},
     "output_type": "execute_result"
    }
   ],
   "source": [
    "B_sol = sympy.solve(eq1,B)[0]\n",
    "B_sol"
   ]
  },
  {
   "cell_type": "code",
   "execution_count": 14,
   "metadata": {
    "collapsed": false
   },
   "outputs": [
    {
     "data": {
      "image/png": "[encoded data removed]",
      "text/latex": [
       "$$0 = u_{max} \\left(1 - \\frac{1}{u_{max}} \\left(4 u_{max} - 6 u_{star}\\right) - \\frac{3 \\left(2 u_{max} - 3 u_{star}\\right)^{2}}{A^{2} \\rho_{max}^{2} u_{max}^{2}} \\left(- A \\rho_{max} + 1\\right)\\right)$$"
      ],
      "text/plain": [
       "         ⎛                                               2              ⎞\n",
       "         ⎜    2⋅(2⋅uₘₐₓ - 3⋅uₛₜₐᵣ)   3⋅(2⋅uₘₐₓ - 3⋅uₛₜₐᵣ) ⋅(-A⋅ρₘₐₓ + 1)⎟\n",
       "0 = uₘₐₓ⋅⎜1 - ──────────────────── - ───────────────────────────────────⎟\n",
       "         ⎜            uₘₐₓ                       2     2     2          ⎟\n",
       "         ⎝                                      A ⋅ρₘₐₓ ⋅uₘₐₓ           ⎠"
      ]
     },
     "execution_count": 14,
     "metadata": {},
     "output_type": "execute_result"
    }
   ],
   "source": [
    "quadA = eq2.subs([(rho_star,rho_sol),(B,B_sol)])\n",
    "quadA"
   ]
  },
  {
   "cell_type": "code",
   "execution_count": 15,
   "metadata": {
    "collapsed": false
   },
   "outputs": [
    {
     "data": {
      "image/png": "[encoded data removed]",
      "text/latex": [
       "$$- 3 u_{max} + 6 u_{star} + \\frac{3 \\left(2 u_{max} - 3 u_{star}\\right)^{2}}{A \\rho_{max} u_{max}} - \\frac{3 \\left(2 u_{max} - 3 u_{star}\\right)^{2}}{A^{2} \\rho_{max}^{2} u_{max}} = 0$$"
      ],
      "text/plain": [
       "                                        2                       2    \n",
       "                    3⋅(2⋅uₘₐₓ - 3⋅uₛₜₐᵣ)    3⋅(2⋅uₘₐₓ - 3⋅uₛₜₐᵣ)     \n",
       "-3⋅uₘₐₓ + 6⋅uₛₜₐᵣ + ───────────────────── - ───────────────────── = 0\n",
       "                         A⋅ρₘₐₓ⋅uₘₐₓ             2     2             \n",
       "                                                A ⋅ρₘₐₓ ⋅uₘₐₓ        "
      ]
     },
     "execution_count": 15,
     "metadata": {},
     "output_type": "execute_result"
    }
   ],
   "source": [
    "quadA.simplify()"
   ]
  },
  {
   "cell_type": "code",
   "execution_count": 16,
   "metadata": {
    "collapsed": true
   },
   "outputs": [],
   "source": [
    "A_sol = sympy.solve(quadA, A)"
   ]
  },
  {
   "cell_type": "code",
   "execution_count": 17,
   "metadata": {
    "collapsed": false
   },
   "outputs": [
    {
     "data": {
      "image/png": "[encoded data removed]",
      "text/latex": [
       "$$\\frac{1}{2 \\rho_{max} u_{max} \\left(u_{max} - 2 u_{star}\\right)} \\left(\\sqrt{- u_{star} \\left(4 u_{max} - 9 u_{star}\\right)} \\left(- 2 u_{max} + 3 u_{star}\\right) + \\left(2 u_{max} - 3 u_{star}\\right)^{2}\\right)$$"
      ],
      "text/plain": [
       "  ___________________________                                         2\n",
       "╲╱ -uₛₜₐᵣ⋅(4⋅uₘₐₓ - 9⋅uₛₜₐᵣ) ⋅(-2⋅uₘₐₓ + 3⋅uₛₜₐᵣ) + (2⋅uₘₐₓ - 3⋅uₛₜₐᵣ) \n",
       "───────────────────────────────────────────────────────────────────────\n",
       "                      2⋅ρₘₐₓ⋅uₘₐₓ⋅(uₘₐₓ - 2⋅uₛₜₐᵣ)                     "
      ]
     },
     "execution_count": 17,
     "metadata": {},
     "output_type": "execute_result"
    }
   ],
   "source": [
    "A_sol[0]"
   ]
  },
  {
   "cell_type": "code",
   "execution_count": 18,
   "metadata": {
    "collapsed": false
   },
   "outputs": [
    {
     "data": {
      "image/png": "[encoded data removed]",
      "text/latex": [
       "$$\\frac{1}{2 \\rho_{max} u_{max} \\left(u_{max} - 2 u_{star}\\right)} \\left(2 u_{max} - 3 u_{star}\\right) \\left(2 u_{max} - 3 u_{star} + \\sqrt{- u_{star} \\left(4 u_{max} - 9 u_{star}\\right)}\\right)$$"
      ],
      "text/plain": [
       "                   ⎛                     ___________________________⎞\n",
       "(2⋅uₘₐₓ - 3⋅uₛₜₐᵣ)⋅⎝2⋅uₘₐₓ - 3⋅uₛₜₐᵣ + ╲╱ -uₛₜₐᵣ⋅(4⋅uₘₐₓ - 9⋅uₛₜₐᵣ) ⎠\n",
       "─────────────────────────────────────────────────────────────────────\n",
       "                     2⋅ρₘₐₓ⋅uₘₐₓ⋅(uₘₐₓ - 2⋅uₛₜₐᵣ)                    "
      ]
     },
     "execution_count": 18,
     "metadata": {},
     "output_type": "execute_result"
    }
   ],
   "source": [
    "A_sol[1]"
   ]
  },
  {
   "cell_type": "code",
   "execution_count": 21,
   "metadata": {
    "collapsed": false
   },
   "outputs": [
    {
     "data": {
      "image/png": "[encoded data removed]",
      "text/latex": [
       "$$-0.0281023443605751$$"
      ],
      "text/plain": [
       "-0.0281023443605751"
      ]
     },
     "execution_count": 21,
     "metadata": {},
     "output_type": "execute_result"
    }
   ],
   "source": [
    "Value_A1 = A_sol[0].evalf(subs={u_star: 1.5, u_max:2.0, rho_max:15.0})\n",
    "Value_A1"
   ]
  },
  {
   "cell_type": "code",
   "execution_count": 22,
   "metadata": {
    "collapsed": false
   },
   "outputs": [
    {
     "data": {
      "image/png": "[encoded data removed]",
      "text/latex": [
       "$$0.0197690110272418$$"
      ],
      "text/plain": [
       "0.0197690110272418"
      ]
     },
     "execution_count": 22,
     "metadata": {},
     "output_type": "execute_result"
    }
   ],
   "source": [
    "Value_A2 = A_sol[1].evalf(subs={u_star:1.5, u_max:2.0,rho_max:15.0})\n",
    "Value_A2"
   ]
  },
  {
   "cell_type": "code",
   "execution_count": 23,
   "metadata": {
    "collapsed": false
   },
   "outputs": [
    {
     "data": {
      "image/png": "[encoded data removed]",
      "text/latex": [
       "$$0.00312651037596166$$"
      ],
      "text/plain": [
       "0.00312651037596166"
      ]
     },
     "execution_count": 23,
     "metadata": {},
     "output_type": "execute_result"
    }
   ],
   "source": [
    "Value_B = B_sol.evalf(subs={rho_max:15.0,A:Value_A2})# choosed Value_A > 0\n",
    "Value_B"
   ]
  },
  {
   "cell_type": "code",
   "execution_count": 24,
   "metadata": {
    "collapsed": true
   },
   "outputs": [],
   "source": [
    "################################################################"
   ]
  },
  {
   "cell_type": "code",
   "execution_count": 25,
   "metadata": {
    "collapsed": false
   },
   "outputs": [
    {
     "data": {
      "image/png": "[encoded data removed]",
      "text/latex": [
       "$$f{\\left (\\rho \\right )} = \\rho u_{max} \\left(- A - 2 B \\rho\\right) + u_{max} \\left(- A \\rho - B \\rho^{2} + 1\\right)$$"
      ],
      "text/plain": [
       "                                  ⎛          2    ⎞\n",
       "f(ρ) = ρ⋅uₘₐₓ⋅(-A - 2⋅B⋅ρ) + uₘₐₓ⋅⎝-A⋅ρ - B⋅ρ  + 1⎠"
      ]
     },
     "execution_count": 25,
     "metadata": {},
     "output_type": "execute_result"
    }
   ],
   "source": [
    "(u_max,rho,A,B,f)=sympy.symbols('u_max rho A B f')\n",
    "eqFdiff = sympy.Eq(f(rho), u_max*(1-A*rho-B*rho**2)+u_max*rho*(-A-2*B*rho))\n",
    "eqFdiff"
   ]
  },
  {
   "cell_type": "code",
   "execution_count": 26,
   "metadata": {
    "collapsed": false
   },
   "outputs": [
    {
     "data": {
      "image/png": "[encoded data removed]",
      "text/latex": [
       "$$f{\\left (\\rho \\right )} = - 2 A \\rho u_{max} - 3 B \\rho^{2} u_{max} + u_{max}$$"
      ],
      "text/plain": [
       "                          2            \n",
       "f(ρ) = -2⋅A⋅ρ⋅uₘₐₓ - 3⋅B⋅ρ ⋅uₘₐₓ + uₘₐₓ"
      ]
     },
     "execution_count": 26,
     "metadata": {},
     "output_type": "execute_result"
    }
   ],
   "source": [
    "eqFdiff.expand()"
   ]
  },
  {
   "cell_type": "code",
   "execution_count": 27,
   "metadata": {
    "collapsed": false
   },
   "outputs": [
    {
     "data": {
      "image/png": "[encoded data removed]",
      "text/latex": [
       "$$0 = \\rho u_{max} \\left(- A - 2 B \\rho\\right) + u_{max} \\left(- A \\rho - B \\rho^{2} + 1\\right)$$"
      ],
      "text/plain": [
       "                               ⎛          2    ⎞\n",
       "0 = ρ⋅uₘₐₓ⋅(-A - 2⋅B⋅ρ) + uₘₐₓ⋅⎝-A⋅ρ - B⋅ρ  + 1⎠"
      ]
     },
     "execution_count": 27,
     "metadata": {},
     "output_type": "execute_result"
    }
   ],
   "source": [
    "f=sympy.Eq(0,u_max*(1-A*rho-B*rho**2)+u_max*rho*(-A-2*B*rho))\n",
    "f"
   ]
  },
  {
   "cell_type": "code",
   "execution_count": 28,
   "metadata": {
    "collapsed": false
   },
   "outputs": [
    {
     "data": {
      "image/png": "[encoded data removed]",
      "text/latex": [
       "$$0 = - 2 A \\rho u_{max} - 3 B \\rho^{2} u_{max} + u_{max}$$"
      ],
      "text/plain": [
       "                       2            \n",
       "0 = -2⋅A⋅ρ⋅uₘₐₓ - 3⋅B⋅ρ ⋅uₘₐₓ + uₘₐₓ"
      ]
     },
     "execution_count": 28,
     "metadata": {},
     "output_type": "execute_result"
    }
   ],
   "source": [
    "f.expand()"
   ]
  },
  {
   "cell_type": "code",
   "execution_count": 29,
   "metadata": {
    "collapsed": true
   },
   "outputs": [],
   "source": [
    "rho_sol = sympy.solve(f,rho)"
   ]
  },
  {
   "cell_type": "code",
   "execution_count": 30,
   "metadata": {
    "collapsed": false
   },
   "outputs": [
    {
     "data": {
      "image/png": "[encoded data removed]",
      "text/latex": [
       "$$\\frac{1}{3 B} \\left(- A + \\sqrt{A^{2} + 3 B}\\right)$$"
      ],
      "text/plain": [
       "        __________\n",
       "       ╱  2       \n",
       "-A + ╲╱  A  + 3⋅B \n",
       "──────────────────\n",
       "       3⋅B        "
      ]
     },
     "execution_count": 30,
     "metadata": {},
     "output_type": "execute_result"
    }
   ],
   "source": [
    "rho_sol[0]"
   ]
  },
  {
   "cell_type": "code",
   "execution_count": 31,
   "metadata": {
    "collapsed": false
   },
   "outputs": [
    {
     "data": {
      "image/png": "[encoded data removed]",
      "text/latex": [
       "$$- \\frac{1}{3 B} \\left(A + \\sqrt{A^{2} + 3 B}\\right)$$"
      ],
      "text/plain": [
       " ⎛       __________⎞ \n",
       " ⎜      ╱  2       ⎟ \n",
       "-⎝A + ╲╱  A  + 3⋅B ⎠ \n",
       "─────────────────────\n",
       "         3⋅B         "
      ]
     },
     "execution_count": 31,
     "metadata": {},
     "output_type": "execute_result"
    }
   ],
   "source": [
    "rho_sol[1]"
   ]
  },
  {
   "cell_type": "code",
   "execution_count": 32,
   "metadata": {
    "collapsed": false
   },
   "outputs": [
    {
     "name": "stdout",
     "output_type": "stream",
     "text": [
      "0.0197690110272418\n",
      "0.00312651037596166\n"
     ]
    }
   ],
   "source": [
    "print(Value_A2)\n",
    "print(Value_B)"
   ]
  },
  {
   "cell_type": "code",
   "execution_count": 33,
   "metadata": {
    "collapsed": false
   },
   "outputs": [
    {
     "data": {
      "image/png": "[encoded data removed]",
      "text/latex": [
       "$$8.43070330817254$$"
      ],
      "text/plain": [
       "8.43070330817254"
      ]
     },
     "execution_count": 33,
     "metadata": {},
     "output_type": "execute_result"
    }
   ],
   "source": [
    "Value_rho1=rho_sol[0].evalf(subs={A:Value_A2,B:Value_B})\n",
    "Value_rho1"
   ]
  },
  {
   "cell_type": "code",
   "execution_count": 34,
   "metadata": {
    "collapsed": false
   },
   "outputs": [
    {
     "data": {
      "image/png": "[encoded data removed]",
      "text/latex": [
       "$$-12.6460549622588$$"
      ],
      "text/plain": [
       "-12.6460549622588"
      ]
     },
     "execution_count": 34,
     "metadata": {},
     "output_type": "execute_result"
    }
   ],
   "source": [
    "Value_rho2=rho_sol[1].evalf(subs={A:Value_A2, B:Value_B})\n",
    "Value_rho2"
   ]
  },
  {
   "cell_type": "code",
   "execution_count": 35,
   "metadata": {
    "collapsed": true
   },
   "outputs": [],
   "source": [
    "# rho : the density of the fluid\n",
    "# u   : the velocity of the fluid\n",
    "# p   : the pressure of the fluid\n",
    "# e_T : the specific total energy"
   ]
  },
  {
   "cell_type": "code",
   "execution_count": 36,
   "metadata": {
    "collapsed": true
   },
   "outputs": [],
   "source": [
    "%matplotlib inline\n",
    "import numpy"
   ]
  },
  {
   "cell_type": "code",
   "execution_count": 37,
   "metadata": {
    "collapsed": true
   },
   "outputs": [],
   "source": [
    "# initial condition on the left side\n",
    "ICL   = [1.0,0.0,100000.0]\n",
    "rho_L = ICL[0]\n",
    "u_L   = ICL[1]\n",
    "p_L   = ICL[2]"
   ]
  },
  {
   "cell_type": "code",
   "execution_count": 38,
   "metadata": {
    "collapsed": true
   },
   "outputs": [],
   "source": [
    "# initial condition on the right side\n",
    "ICR   = [0.125, 0.0, 10000.0]\n",
    "rho_R = ICR[0]\n",
    "u_R   = ICR[1]\n",
    "p_R   = ICR[2]"
   ]
  },
  {
   "cell_type": "code",
   "execution_count": 39,
   "metadata": {
    "collapsed": true
   },
   "outputs": [],
   "source": [
    "nx = 81\n",
    "dx = 0.25\n",
    "dt = 0.0002\n",
    "gamma = 1.4\n",
    "T = 0.01 #final time in question \"calculate at time t = 0.01 s\n",
    "nt = int(T/dt)+1"
   ]
  },
  {
   "cell_type": "code",
   "execution_count": 40,
   "metadata": {
    "collapsed": true
   },
   "outputs": [],
   "source": [
    "def search_initial(nx, initial_left, initial_right):\n",
    "    \n",
    "    initial_condition = initial_right*numpy.ones(nx)\n",
    "    initial_condition[:int((nx-1)*10./20.)]=initial_left\n",
    "    return initial_condition"
   ]
  },
  {
   "cell_type": "code",
   "execution_count": 41,
   "metadata": {
    "collapsed": true
   },
   "outputs": [],
   "source": [
    "def computeU(rho, u, p):\n",
    "    \n",
    "    U = numpy.empty([nx,3])\n",
    "    \n",
    "    for i in range(nx):\n",
    "        \n",
    "        e = p[i]/((gamma-1)*rho[i])\n",
    "        e_T = e + (u[i]**2)/2\n",
    "        U[i] = [rho[i], rho[i]*u[i], rho[i]*e_T]\n",
    "        \n",
    "    return U"
   ]
  },
  {
   "cell_type": "code",
   "execution_count": 42,
   "metadata": {
    "collapsed": true
   },
   "outputs": [],
   "source": [
    "def computeF(U):\n",
    "    F = numpy.empty([nx,3])\n",
    "    \n",
    "    for i in range(nx):\n",
    "        \n",
    "        U_dum = U[i]\n",
    "        \n",
    "        U1 = U_dum[0]\n",
    "        U2 = U_dum[1]\n",
    "        U3 = U_dum[2]\n",
    "        \n",
    "        F[i] = [U2, (U2**2)/U1+(gamma-1)*(U3-0.5*(U2**2)/U1),\n",
    "               (U3+(gamma-1)*(U3-0.5*(U2**2)/U1))*U2/U1]\n",
    "        \n",
    "    return F"
   ]
  },
  {
   "cell_type": "code",
   "execution_count": 43,
   "metadata": {
    "collapsed": true
   },
   "outputs": [],
   "source": [
    "def Search_U_star(U,F):\n",
    "    U_star = numpy.zeros_like(U)\n",
    "    \n",
    "    for i in range(1,nx):\n",
    "        \n",
    "        U_star[i-1]=0.5*(U[i]+U[i-1])-dt/(2*dx)*(F[i]-F[i-1])\n",
    "        \n",
    "    return U_star"
   ]
  },
  {
   "cell_type": "code",
   "execution_count": 44,
   "metadata": {
    "collapsed": true
   },
   "outputs": [],
   "source": [
    "def Search_U_next(U,F_dum):\n",
    "    \n",
    "    U_next = numpy.empty([nx,3])\n",
    "    K2     = numpy.zeros([nx,3])\n",
    "    K1     = numpy.zeros([nx,3])\n",
    "    \n",
    "    U_next[0]  = U[0]\n",
    "    U_next[-1] = U[-1]\n",
    "    \n",
    "    for i in range (1,nx-1):\n",
    "        \n",
    "        U_next[i]=U[i]-dt/dx*(F_dum[i]-F_dum[i-1])\n",
    "        \n",
    "    return U_next"
   ]
  },
  {
   "cell_type": "code",
   "execution_count": 45,
   "metadata": {
    "collapsed": true
   },
   "outputs": [],
   "source": [
    "rho_initial = numpy.empty(nx)\n",
    "u_initial   = numpy.empty(nx)\n",
    "p_initial   = numpy.empty(nx)\n",
    "U_real      = numpy.empty([nx,3])\n",
    "\n",
    "rho_initial = search_initial(nx, rho_L, rho_R)\n",
    "u_initial   = search_initial(nx, u_L, u_R)\n",
    "p_initial   = search_initial(nx, p_L, p_R)\n",
    "U_real      = computeU(rho_initial, u_initial, p_initial)"
   ]
  },
  {
   "cell_type": "code",
   "execution_count": 46,
   "metadata": {
    "collapsed": true
   },
   "outputs": [],
   "source": [
    "F_n_prev = numpy.empty([nx,3])\n",
    "U_dummy  = numpy.empty([nx,3])\n",
    "F_dummy  = numpy.empty([nx,3])\n",
    "U_n      = numpy.empty([nx,3])\n",
    "U_49     = numpy.empty([nx,3])"
   ]
  },
  {
   "cell_type": "code",
   "execution_count": 47,
   "metadata": {
    "collapsed": true
   },
   "outputs": [],
   "source": [
    "# initial condition for U (n=0 -> U_0)\n",
    "U_n = U_real"
   ]
  },
  {
   "cell_type": "code",
   "execution_count": 50,
   "metadata": {
    "collapsed": false
   },
   "outputs": [
    {
     "name": "stderr",
     "output_type": "stream",
     "text": [
      "C:\\Users\\User\\Anaconda3\\lib\\site-packages\\ipykernel\\__main__.py:12: RuntimeWarning: invalid value encountered in double_scalars\n",
      "C:\\Users\\User\\Anaconda3\\lib\\site-packages\\ipykernel\\__main__.py:13: RuntimeWarning: invalid value encountered in double_scalars\n"
     ]
    }
   ],
   "source": [
    "#calculate at time n=1 until n=49\n",
    "for n in range(1, nt-1):\n",
    "    U = U_n\n",
    "    F_n_prev = computeF(U)\n",
    "    U_dummy = Search_U_star(U,F_n_prev)\n",
    "    F_dummy = computeF(U_dummy)\n",
    "    U_n = Search_U_next(U, F_dummy)\n",
    "    \n",
    "U_49 = U_n"
   ]
  },
  {
   "cell_type": "code",
   "execution_count": 51,
   "metadata": {
    "collapsed": false
   },
   "outputs": [
    {
     "name": "stderr",
     "output_type": "stream",
     "text": [
      "C:\\Users\\User\\Anaconda3\\lib\\site-packages\\ipykernel\\__main__.py:12: RuntimeWarning: invalid value encountered in double_scalars\n",
      "C:\\Users\\User\\Anaconda3\\lib\\site-packages\\ipykernel\\__main__.py:13: RuntimeWarning: invalid value encountered in double_scalars\n"
     ]
    },
    {
     "name": "stdout",
     "output_type": "stream",
     "text": [
      "Output Final\n",
      "\n",
      "0\n",
      "[  1.00000000e+00   0.00000000e+00   2.50000000e+05]\n",
      "1\n",
      "[  8.57846022e-01   4.90724478e+01   2.02401180e+05]\n",
      "2\n",
      "[  9.03745687e-01   3.36180124e+01   2.17711016e+05]\n",
      "3\n",
      "[  8.59652254e-01   4.79045452e+01   2.03555874e+05]\n",
      "4\n",
      "[  8.56503319e-01   4.87956159e+01   2.02679316e+05]\n",
      "5\n",
      "[  8.35537609e-01   5.51501239e+01   1.96215153e+05]\n",
      "6\n",
      "[  8.21962217e-01   5.91093417e+01   1.92123991e+05]\n",
      "7\n",
      "[  8.05653262e-01   6.37457411e+01   1.87260124e+05]\n",
      "8\n",
      "[  7.90517332e-01   6.79141254e+01   1.82815534e+05]\n",
      "9\n",
      "[  7.75186792e-01   7.20086694e+01   1.78376856e+05]\n",
      "10\n",
      "[  7.60143873e-01   7.58992826e+01   1.74084533e+05]\n",
      "11\n",
      "[  7.45250876e-01   7.96260711e+01   1.69896000e+05]\n",
      "12\n",
      "[  7.30558558e-01   8.31789503e+01   1.65823312e+05]\n",
      "13\n",
      "[  7.16059508e-01   8.65628701e+01   1.61861817e+05]\n",
      "14\n",
      "[  7.01760153e-01   8.97793866e+01   1.58010732e+05]\n",
      "15\n",
      "[  6.87661911e-01   9.28313618e+01   1.54267862e+05]\n",
      "16\n",
      "[  6.73765993e-01   9.57216196e+01   1.50631034e+05]\n",
      "17\n",
      "[  6.60074288e-01   9.84534847e+01   1.47097931e+05]\n",
      "18\n",
      "[  6.46582021e-01   1.01029359e+02   1.43665948e+05]\n",
      "19\n",
      "[  6.33305969e-01   1.03455414e+02   1.40333006e+05]\n",
      "20\n",
      "[  6.20196864e-01   1.05726760e+02   1.37095402e+05]\n",
      "21\n",
      "[  6.07370122e-01   1.07866935e+02   1.33953224e+05]\n",
      "22\n",
      "[  5.94602192e-01   1.09840050e+02   1.30898803e+05]\n",
      "23\n",
      "[  5.82222865e-01   1.11708933e+02   1.27937605e+05]\n",
      "24\n",
      "[  5.69878934e-01   1.13413649e+02   1.25057686e+05]\n",
      "25\n",
      "[  5.57795470e-01   1.14996116e+02   1.22264641e+05]\n",
      "26\n",
      "[  5.45926703e-01   1.16457344e+02   1.19551073e+05]\n",
      "27\n",
      "[  5.34302853e-01   1.17801055e+02   1.16920557e+05]\n",
      "28\n",
      "[  5.22703615e-01   1.18989462e+02   1.14359595e+05]\n",
      "29\n",
      "[  5.11436662e-01   1.20082671e+02   1.11881639e+05]\n",
      "30\n",
      "[  5.00421090e-01   1.21081976e+02   1.09474490e+05]\n",
      "31\n",
      "[  4.89546864e-01   1.21941919e+02   1.07144672e+05]\n",
      "32\n",
      "[  4.78892011e-01   1.22709022e+02   1.04881746e+05]\n",
      "33\n",
      "[  4.68229368e-01   1.23280767e+02   1.02694997e+05]\n",
      "34\n",
      "[  4.58509331e-01   1.23962104e+02   1.00602661e+05]\n",
      "35\n",
      "[  4.48174743e-01   1.24229447e+02   9.85782695e+04]\n",
      "36\n",
      "[  4.39928114e-01   1.24958911e+02   9.67139694e+04]\n",
      "37\n",
      "[  4.29136995e-01   1.24522899e+02   9.48679723e+04]\n",
      "38\n",
      "[  4.24182828e-01   1.25834293e+02   9.34213594e+04]\n",
      "39\n",
      "[  4.13622439e-01   1.23833261e+02   9.20343216e+04]\n",
      "40\n",
      "[  4.31924877e-01   1.27665084e+02   9.46619028e+04]\n",
      "41\n",
      "[  3.08773711e-01   1.21430694e+02   7.19020795e+04]\n",
      "42\n",
      "[  3.65007075e-01   1.25589818e+02   8.20251220e+04]\n",
      "43\n",
      "[  4.35214775e-01   1.24760292e+02   9.59209261e+04]\n",
      "44\n",
      "[  4.23832883e-01   1.24951372e+02   9.36843409e+04]\n",
      "45\n",
      "[  4.27993409e-01   1.24967094e+02   9.44574174e+04]\n",
      "46\n",
      "[  4.25925865e-01   1.25052273e+02   9.40243159e+04]\n",
      "47\n",
      "[  4.26668133e-01   1.24948327e+02   9.42151770e+04]\n",
      "48\n",
      "[  4.26312079e-01   1.25023110e+02   9.41121834e+04]\n",
      "49\n",
      "[  4.27076109e-01   1.25204889e+02   9.41685889e+04]\n",
      "50\n",
      "[  4.26553899e-01   1.25092632e+02   9.41296415e+04]\n",
      "velocity = 293.263366005\n",
      "pressure = 30314.8393195\n",
      "density = 0.426553898787\n",
      "51\n",
      "[  4.24958391e-01   1.24629728e+02   9.40626324e+04]\n",
      "52\n",
      "[  4.24487016e-01   1.24507264e+02   9.40380608e+04]\n",
      "53\n",
      "[  4.26883718e-01   1.25219180e+02   9.41388952e+04]\n",
      "54\n",
      "[  4.29810720e-01   1.26086392e+02   9.42605569e+04]\n",
      "55\n",
      "[  4.28982234e-01   1.25848525e+02   9.42198286e+04]\n",
      "56\n",
      "[  4.23799597e-01   1.24331044e+02   9.39907959e+04]\n",
      "57\n",
      "[  4.19363782e-01   1.23030452e+02   9.37938623e+04]\n",
      "58\n",
      "[  4.21487054e-01   1.23652762e+02   9.38796696e+04]\n",
      "59\n",
      "[  4.29956914e-01   1.26136433e+02   9.42399047e+04]\n",
      "60\n",
      "[  4.37613133e-01   1.28382159e+02   9.45676678e+04]\n",
      "61\n",
      "[  4.36569203e-01   1.28077314e+02   9.45245501e+04]\n",
      "62\n",
      "[  4.25566564e-01   1.24852609e+02   9.40561087e+04]\n",
      "63\n",
      "[  4.11678107e-01   1.20781948e+02   9.34652968e+04]\n",
      "64\n",
      "[  4.05166476e-01   1.18874973e+02   9.31921447e+04]\n",
      "65\n",
      "[  4.12115233e-01   1.20915935e+02   9.34975691e+04]\n",
      "66\n",
      "[  4.30423987e-01   1.26288344e+02   9.42908463e+04]\n",
      "67\n",
      "[  4.51455370e-01   1.32456901e+02   9.51991122e+04]\n",
      "68\n",
      "[  4.64940599e-01   1.36406838e+02   9.57783472e+04]\n",
      "69\n",
      "[  4.64475910e-01   1.36259697e+02   9.57529685e+04]\n",
      "70\n",
      "[  4.48445099e-01   1.31544019e+02   9.50551936e+04]\n",
      "71\n",
      "[  4.21760388e-01   1.23709065e+02   9.39021221e+04]\n",
      "72\n",
      "[  3.88483625e-01   1.13951441e+02   9.24571813e+04]\n",
      "73\n",
      "[  3.57295705e-01   1.04877061e+02   9.10986963e+04]\n",
      "74\n",
      "[  3.27281099e-01   9.62306980e+01   8.96399673e+04]\n",
      "75\n",
      "[  3.07303343e-01   9.09592875e+01   8.86549349e+04]\n",
      "76\n",
      "[  2.84427560e-01   8.45482287e+01   8.65942229e+04]\n",
      "77\n",
      "[  2.82615958e-01   8.64007250e+01   8.78096470e+04]\n",
      "78\n",
      "[  2.50058555e-01   7.21873261e+01   7.93744264e+04]\n",
      "79\n",
      "[  3.11238691e-01   1.09054758e+02   1.05626788e+05]\n",
      "80\n",
      "[  1.25000000e-01   0.00000000e+00   2.50000000e+04]\n"
     ]
    }
   ],
   "source": [
    "#calculate at time n=50 -> t=0.01 s\n",
    "F = computeF(U_49)\n",
    "U_dummy = Search_U_star(U_49, F)\n",
    "F_dummy = computeF(U_dummy)\n",
    "U_final = Search_U_next(U_49, F_dummy)\n",
    "\n",
    "print('Output Final\\n')\n",
    "\n",
    "for i in range(nx):\n",
    "    Out = U_final[i]\n",
    "    \n",
    "    print(i)\n",
    "    print(U_final[i])\n",
    "    \n",
    "    if i == 50:\n",
    "        U1 = Out[0]\n",
    "        U2 = Out[1]\n",
    "        U3 = Out[2]\n",
    "        \n",
    "        velocity = U2/U1\n",
    "        pressure = (gamma -1)*(U3-0.5*(U2**2)/U1)\n",
    "        density = U1\n",
    "        \n",
    "        print('velocity =', velocity)\n",
    "        print('pressure =', pressure)\n",
    "        print('density =', density)"
   ]
  },
  {
   "cell_type": "code",
   "execution_count": null,
   "metadata": {
    "collapsed": true
   },
   "outputs": [],
   "source": []
  }
 ],
 "metadata": {
  "anaconda-cloud": {},
  "kernelspec": {
   "display_name": "Python [conda root]",
   "language": "python",
   "name": "conda-root-py"
  },
  "language_info": {
   "codemirror_mode": {
    "name": "ipython",
    "version": 3
   },
   "file_extension": ".py",
   "mimetype": "text/x-python",
   "name": "python",
   "nbconvert_exporter": "python",
   "pygments_lexer": "ipython3",
   "version": "3.5.2"
  }
 },
 "nbformat": 4,
 "nbformat_minor": 1
}
